{
 "cells": [
  {
   "cell_type": "code",
   "execution_count": null,
   "metadata": {},
   "outputs": [],
   "source": [
    "# Numberical Analysis and Data Exploration with NumPy Arrays\n",
    "# Numpy provides a high- performance multidimensional array object, and tools for working with these arrays.\n",
    "\n",
    "# Attributes of arrays: Determining the size, shape, memory consumption, and data types of arrays.\n",
    "# Indexing of arrays: Getting and setting the value of induvidual array elements.\n",
    "# Slicing of arrays: Getting and setting smaller subarrau within a larger array.\n",
    "# Reshaping of arrays: Changing the shape of a given array.\n",
    "# Joining and splitting of arrays: Combining multiple arrays into one, and splitting one array into many."
   ]
  },
  {
   "cell_type": "code",
   "execution_count": null,
   "metadata": {},
   "outputs": [],
   "source": [
    "# Attributes\n",
    "# ndim: the number of dimenstions\n",
    "# shape: the size of each dimension\n",
    "# size: the total size of the array\n",
    "# dtype: the data type of the array\n",
    "# itemsize: list the size of each array element\n",
    "#nbytes: lists the total size of the array"
   ]
  },
  {
   "cell_type": "code",
   "execution_count": null,
   "metadata": {},
   "outputs": [],
   "source": [
    "# Indexing: Accessing single elements\n",
    "# in a multi-dimensional array, items can be accessed using a commaseperated tuple of indices."
   ]
  },
  {
   "cell_type": "code",
   "execution_count": null,
   "metadata": {},
   "outputs": [],
   "source": [
    "# Slicing: Accessing subarrays\n",
    "# x[start: stop: step]"
   ]
  },
  {
   "cell_type": "code",
   "execution_count": null,
   "metadata": {},
   "outputs": [],
   "source": [
    "# Reshaping of Arrays"
   ]
  },
  {
   "cell_type": "code",
   "execution_count": null,
   "metadata": {},
   "outputs": [],
   "source": [
    "# Concatenation: np.concatenate, np.vstack, np.hstack"
   ]
  }
 ],
 "metadata": {
  "kernelspec": {
   "display_name": "Python 3",
   "language": "python",
   "name": "python3"
  },
  "language_info": {
   "codemirror_mode": {
    "name": "ipython",
    "version": 3
   },
   "file_extension": ".py",
   "mimetype": "text/x-python",
   "name": "python",
   "nbconvert_exporter": "python",
   "pygments_lexer": "ipython3",
   "version": "3.7.1"
  }
 },
 "nbformat": 4,
 "nbformat_minor": 2
}
